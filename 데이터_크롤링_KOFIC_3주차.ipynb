{
 "cells": [
  {
   "cell_type": "markdown",
   "metadata": {
    "id": "svRWHmQr7Hkk"
   },
   "source": [
    "## 패키지 설치 및 로드\n"
   ]
  },
  {
   "cell_type": "code",
   "execution_count": 1,
   "metadata": {
    "id": "v4BEpCv_755A"
   },
   "outputs": [],
   "source": [
    "import numpy as np\n",
    "import pandas as pd\n",
    "import matplotlib.pyplot as plt"
   ]
  },
  {
   "cell_type": "markdown",
   "metadata": {
    "id": "TseA99Du77yZ"
   },
   "source": [
    "## 데이터 로드 및 전처리"
   ]
  },
  {
   "cell_type": "code",
   "execution_count": 2,
   "metadata": {
    "id": "kJsiWZMu7hIY"
   },
   "outputs": [],
   "source": [
    "# 데이터 로드\n",
    "# csv 파일 읽기\n",
    "original_data = pd.read_csv('movie_finished_toFDA_V9.csv')\n",
    "\n",
    "# Parquet 파일 읽기\n",
    "movie_after_14 = pd.read_parquet('kofic_data/kofic_data.parquet')"
   ]
  },
  {
   "cell_type": "code",
   "execution_count": 3,
   "metadata": {
    "colab": {
     "base_uri": "https://localhost:8080/",
     "height": 878
    },
    "id": "IOJotMKJ8ntD",
    "outputId": "42c7b267-2134-4182-a5a4-64c60f854dfb"
   },
   "outputs": [
    {
     "name": "stdout",
     "output_type": "stream",
     "text": [
      "<class 'pandas.core.frame.DataFrame'>\n",
      "RangeIndex: 13090 entries, 0 to 13089\n",
      "Data columns (total 16 columns):\n",
      " #   Column       Non-Null Count  Dtype \n",
      "---  ------       --------------  ----- \n",
      " 0   date         13090 non-null  object\n",
      " 1   rank         13090 non-null  object\n",
      " 2   movieCd      13090 non-null  object\n",
      " 3   movieNm      13090 non-null  object\n",
      " 4   openDt       13090 non-null  object\n",
      " 5   salesAmt     13090 non-null  object\n",
      " 6   salesShare   13090 non-null  object\n",
      " 7   salesInten   13090 non-null  object\n",
      " 8   salesChange  13090 non-null  object\n",
      " 9   salesAcc     13090 non-null  object\n",
      " 10  audiCnt      13090 non-null  object\n",
      " 11  audiInten    13090 non-null  object\n",
      " 12  audiChange   13090 non-null  object\n",
      " 13  audiAcc      13090 non-null  object\n",
      " 14  scrnCnt      13090 non-null  object\n",
      " 15  showCnt      13090 non-null  object\n",
      "dtypes: object(16)\n",
      "memory usage: 1.6+ MB\n",
      "None\n"
     ]
    },
    {
     "data": {
      "text/html": [
       "<div>\n",
       "<style scoped>\n",
       "    .dataframe tbody tr th:only-of-type {\n",
       "        vertical-align: middle;\n",
       "    }\n",
       "\n",
       "    .dataframe tbody tr th {\n",
       "        vertical-align: top;\n",
       "    }\n",
       "\n",
       "    .dataframe thead th {\n",
       "        text-align: right;\n",
       "    }\n",
       "</style>\n",
       "<table border=\"1\" class=\"dataframe\">\n",
       "  <thead>\n",
       "    <tr style=\"text-align: right;\">\n",
       "      <th></th>\n",
       "      <th>date</th>\n",
       "      <th>rank</th>\n",
       "      <th>movieCd</th>\n",
       "      <th>movieNm</th>\n",
       "      <th>openDt</th>\n",
       "      <th>salesAmt</th>\n",
       "      <th>salesShare</th>\n",
       "      <th>salesInten</th>\n",
       "      <th>salesChange</th>\n",
       "      <th>salesAcc</th>\n",
       "      <th>audiCnt</th>\n",
       "      <th>audiInten</th>\n",
       "      <th>audiChange</th>\n",
       "      <th>audiAcc</th>\n",
       "      <th>scrnCnt</th>\n",
       "      <th>showCnt</th>\n",
       "    </tr>\n",
       "  </thead>\n",
       "  <tbody>\n",
       "    <tr>\n",
       "      <th>0</th>\n",
       "      <td>20160101</td>\n",
       "      <td>1</td>\n",
       "      <td>20136068</td>\n",
       "      <td>히말라야</td>\n",
       "      <td>2015-12-16</td>\n",
       "      <td>4529795647</td>\n",
       "      <td>38.3</td>\n",
       "      <td>2303664641</td>\n",
       "      <td>103.5</td>\n",
       "      <td>43999571095</td>\n",
       "      <td>554307</td>\n",
       "      <td>259690</td>\n",
       "      <td>88.1</td>\n",
       "      <td>5683716</td>\n",
       "      <td>955</td>\n",
       "      <td>4678</td>\n",
       "    </tr>\n",
       "    <tr>\n",
       "      <th>1</th>\n",
       "      <td>20160101</td>\n",
       "      <td>10</td>\n",
       "      <td>20156807</td>\n",
       "      <td>뽀로로 극장판 컴퓨터 왕국 대모험</td>\n",
       "      <td>2015-12-10</td>\n",
       "      <td>96435100</td>\n",
       "      <td>0.8</td>\n",
       "      <td>27436400</td>\n",
       "      <td>39.8</td>\n",
       "      <td>2998525700</td>\n",
       "      <td>12243</td>\n",
       "      <td>2749</td>\n",
       "      <td>29</td>\n",
       "      <td>404003</td>\n",
       "      <td>151</td>\n",
       "      <td>245</td>\n",
       "    </tr>\n",
       "    <tr>\n",
       "      <th>2</th>\n",
       "      <td>20160101</td>\n",
       "      <td>2</td>\n",
       "      <td>20150025</td>\n",
       "      <td>내부자들: 디 오리지널</td>\n",
       "      <td>2015-12-31</td>\n",
       "      <td>2092539355</td>\n",
       "      <td>17.7</td>\n",
       "      <td>864281640</td>\n",
       "      <td>70.4</td>\n",
       "      <td>3329327070</td>\n",
       "      <td>247992</td>\n",
       "      <td>88926</td>\n",
       "      <td>55.9</td>\n",
       "      <td>408140</td>\n",
       "      <td>822</td>\n",
       "      <td>2088</td>\n",
       "    </tr>\n",
       "    <tr>\n",
       "      <th>3</th>\n",
       "      <td>20160101</td>\n",
       "      <td>3</td>\n",
       "      <td>20154141</td>\n",
       "      <td>스타워즈: 깨어난 포스</td>\n",
       "      <td>2015-12-17</td>\n",
       "      <td>1400855545</td>\n",
       "      <td>11.9</td>\n",
       "      <td>603603060</td>\n",
       "      <td>75.7</td>\n",
       "      <td>25550334085</td>\n",
       "      <td>154446</td>\n",
       "      <td>59442</td>\n",
       "      <td>62.6</td>\n",
       "      <td>2957680</td>\n",
       "      <td>552</td>\n",
       "      <td>2067</td>\n",
       "    </tr>\n",
       "    <tr>\n",
       "      <th>4</th>\n",
       "      <td>20160101</td>\n",
       "      <td>4</td>\n",
       "      <td>20144442</td>\n",
       "      <td>조선마술사</td>\n",
       "      <td>2015-12-30</td>\n",
       "      <td>1153061953</td>\n",
       "      <td>9.8</td>\n",
       "      <td>387563159</td>\n",
       "      <td>50.6</td>\n",
       "      <td>2659511747</td>\n",
       "      <td>145065</td>\n",
       "      <td>40336</td>\n",
       "      <td>38.5</td>\n",
       "      <td>369722</td>\n",
       "      <td>608</td>\n",
       "      <td>2319</td>\n",
       "    </tr>\n",
       "  </tbody>\n",
       "</table>\n",
       "</div>"
      ],
      "text/plain": [
       "       date rank   movieCd             movieNm      openDt    salesAmt  \\\n",
       "0  20160101    1  20136068                히말라야  2015-12-16  4529795647   \n",
       "1  20160101   10  20156807  뽀로로 극장판 컴퓨터 왕국 대모험  2015-12-10    96435100   \n",
       "2  20160101    2  20150025        내부자들: 디 오리지널  2015-12-31  2092539355   \n",
       "3  20160101    3  20154141        스타워즈: 깨어난 포스  2015-12-17  1400855545   \n",
       "4  20160101    4  20144442               조선마술사  2015-12-30  1153061953   \n",
       "\n",
       "  salesShare  salesInten salesChange     salesAcc audiCnt audiInten  \\\n",
       "0       38.3  2303664641       103.5  43999571095  554307    259690   \n",
       "1        0.8    27436400        39.8   2998525700   12243      2749   \n",
       "2       17.7   864281640        70.4   3329327070  247992     88926   \n",
       "3       11.9   603603060        75.7  25550334085  154446     59442   \n",
       "4        9.8   387563159        50.6   2659511747  145065     40336   \n",
       "\n",
       "  audiChange  audiAcc scrnCnt showCnt  \n",
       "0       88.1  5683716     955    4678  \n",
       "1         29   404003     151     245  \n",
       "2       55.9   408140     822    2088  \n",
       "3       62.6  2957680     552    2067  \n",
       "4       38.5   369722     608    2319  "
      ]
     },
     "execution_count": 3,
     "metadata": {},
     "output_type": "execute_result"
    }
   ],
   "source": [
    "# 데이터 확인\n",
    "print(movie_after_14.info())\n",
    "movie_after_14.head()"
   ]
  },
  {
   "cell_type": "code",
   "execution_count": 4,
   "metadata": {
    "colab": {
     "base_uri": "https://localhost:8080/",
     "height": 313
    },
    "id": "2kUG60EE8s_J",
    "outputId": "29fe5301-e104-4c9b-a2e7-74aee6a4c04e"
   },
   "outputs": [
    {
     "data": {
      "text/html": [
       "<div>\n",
       "<style scoped>\n",
       "    .dataframe tbody tr th:only-of-type {\n",
       "        vertical-align: middle;\n",
       "    }\n",
       "\n",
       "    .dataframe tbody tr th {\n",
       "        vertical-align: top;\n",
       "    }\n",
       "\n",
       "    .dataframe thead th {\n",
       "        text-align: right;\n",
       "    }\n",
       "</style>\n",
       "<table border=\"1\" class=\"dataframe\">\n",
       "  <thead>\n",
       "    <tr style=\"text-align: right;\">\n",
       "      <th></th>\n",
       "      <th>date</th>\n",
       "      <th>rank</th>\n",
       "      <th>movieCd</th>\n",
       "      <th>movieNm</th>\n",
       "      <th>openDt</th>\n",
       "      <th>salesAmt</th>\n",
       "      <th>salesShare</th>\n",
       "      <th>salesInten</th>\n",
       "      <th>salesChange</th>\n",
       "      <th>salesAcc</th>\n",
       "      <th>audiCnt</th>\n",
       "      <th>audiInten</th>\n",
       "      <th>audiChange</th>\n",
       "      <th>audiAcc</th>\n",
       "      <th>scrnCnt</th>\n",
       "      <th>showCnt</th>\n",
       "    </tr>\n",
       "  </thead>\n",
       "  <tbody>\n",
       "    <tr>\n",
       "      <th>0</th>\n",
       "      <td>20180328</td>\n",
       "      <td>8</td>\n",
       "      <td>19720061</td>\n",
       "      <td>정무문</td>\n",
       "      <td>1973-07-27</td>\n",
       "      <td>26872000</td>\n",
       "      <td>0.7</td>\n",
       "      <td>26872000</td>\n",
       "      <td>100</td>\n",
       "      <td>55326000</td>\n",
       "      <td>3000</td>\n",
       "      <td>3000</td>\n",
       "      <td>100</td>\n",
       "      <td>9528</td>\n",
       "      <td>11</td>\n",
       "      <td>11</td>\n",
       "    </tr>\n",
       "    <tr>\n",
       "      <th>1</th>\n",
       "      <td>20160719</td>\n",
       "      <td>9</td>\n",
       "      <td>19818004</td>\n",
       "      <td>불의 전차</td>\n",
       "      <td>2016-06-16</td>\n",
       "      <td>12462000</td>\n",
       "      <td>0.5</td>\n",
       "      <td>6981000</td>\n",
       "      <td>127.4</td>\n",
       "      <td>294463100</td>\n",
       "      <td>1951</td>\n",
       "      <td>1055</td>\n",
       "      <td>117.7</td>\n",
       "      <td>44957</td>\n",
       "      <td>19</td>\n",
       "      <td>22</td>\n",
       "    </tr>\n",
       "    <tr>\n",
       "      <th>2</th>\n",
       "      <td>20190613</td>\n",
       "      <td>8</td>\n",
       "      <td>19880001</td>\n",
       "      <td>이웃집 토토로</td>\n",
       "      <td>2001-07-28</td>\n",
       "      <td>20093840</td>\n",
       "      <td>0.7</td>\n",
       "      <td>-6760790</td>\n",
       "      <td>-25.2</td>\n",
       "      <td>954379710</td>\n",
       "      <td>2550</td>\n",
       "      <td>-879</td>\n",
       "      <td>-25.6</td>\n",
       "      <td>116824</td>\n",
       "      <td>191</td>\n",
       "      <td>247</td>\n",
       "    </tr>\n",
       "    <tr>\n",
       "      <th>3</th>\n",
       "      <td>20190619</td>\n",
       "      <td>8</td>\n",
       "      <td>19880001</td>\n",
       "      <td>이웃집 토토로</td>\n",
       "      <td>2001-07-28</td>\n",
       "      <td>16411980</td>\n",
       "      <td>0.5</td>\n",
       "      <td>-3272090</td>\n",
       "      <td>-16.6</td>\n",
       "      <td>1220881670</td>\n",
       "      <td>2076</td>\n",
       "      <td>-397</td>\n",
       "      <td>-16.1</td>\n",
       "      <td>149037</td>\n",
       "      <td>146</td>\n",
       "      <td>197</td>\n",
       "    </tr>\n",
       "    <tr>\n",
       "      <th>4</th>\n",
       "      <td>20190622</td>\n",
       "      <td>10</td>\n",
       "      <td>19880001</td>\n",
       "      <td>이웃집 토토로</td>\n",
       "      <td>2001-07-28</td>\n",
       "      <td>18613660</td>\n",
       "      <td>0.2</td>\n",
       "      <td>9028500</td>\n",
       "      <td>94.2</td>\n",
       "      <td>1256031950</td>\n",
       "      <td>2168</td>\n",
       "      <td>1096</td>\n",
       "      <td>102.2</td>\n",
       "      <td>153147</td>\n",
       "      <td>59</td>\n",
       "      <td>84</td>\n",
       "    </tr>\n",
       "  </tbody>\n",
       "</table>\n",
       "</div>"
      ],
      "text/plain": [
       "       date rank   movieCd  movieNm      openDt  salesAmt salesShare  \\\n",
       "0  20180328    8  19720061      정무문  1973-07-27  26872000        0.7   \n",
       "1  20160719    9  19818004    불의 전차  2016-06-16  12462000        0.5   \n",
       "2  20190613    8  19880001  이웃집 토토로  2001-07-28  20093840        0.7   \n",
       "3  20190619    8  19880001  이웃집 토토로  2001-07-28  16411980        0.5   \n",
       "4  20190622   10  19880001  이웃집 토토로  2001-07-28  18613660        0.2   \n",
       "\n",
       "  salesInten salesChange    salesAcc audiCnt audiInten audiChange audiAcc  \\\n",
       "0   26872000         100    55326000    3000      3000        100    9528   \n",
       "1    6981000       127.4   294463100    1951      1055      117.7   44957   \n",
       "2   -6760790       -25.2   954379710    2550      -879      -25.6  116824   \n",
       "3   -3272090       -16.6  1220881670    2076      -397      -16.1  149037   \n",
       "4    9028500        94.2  1256031950    2168      1096      102.2  153147   \n",
       "\n",
       "  scrnCnt showCnt  \n",
       "0      11      11  \n",
       "1      19      22  \n",
       "2     191     247  \n",
       "3     146     197  \n",
       "4      59      84  "
      ]
     },
     "execution_count": 4,
     "metadata": {},
     "output_type": "execute_result"
    }
   ],
   "source": [
    "# 데이터 병합을 위해 영화 코드를 기준으로 정렬함\n",
    "movie_after_14 = movie_after_14.sort_values(by='movieCd').reset_index(drop=True)\n",
    "movie_after_14.head()"
   ]
  },
  {
   "cell_type": "code",
   "execution_count": 5,
   "metadata": {
    "colab": {
     "base_uri": "https://localhost:8080/"
    },
    "id": "Lyo-4CfZ83sn",
    "outputId": "4e7d98a7-0f07-482b-e5c5-e663b01f1149"
   },
   "outputs": [
    {
     "name": "stdout",
     "output_type": "stream",
     "text": [
      "D_D Statistics:\n",
      "count    13070.000000\n",
      "mean       113.584468\n",
      "std        749.615344\n",
      "min       -176.000000\n",
      "25%          3.000000\n",
      "50%          9.000000\n",
      "75%         18.000000\n",
      "max      16315.000000\n",
      "Name: D_D, dtype: float64\n",
      "\n",
      "D_D Value Counts:\n",
      "D_D\n",
      "-176.0      1\n",
      "-42.0       1\n",
      "-38.0       1\n",
      "-37.0       1\n",
      "-36.0       1\n",
      "           ..\n",
      " 9592.0     1\n",
      " 9593.0     1\n",
      " 9907.0     1\n",
      " 9979.0     1\n",
      " 16315.0    1\n",
      "Name: count, Length: 421, dtype: int64\n"
     ]
    }
   ],
   "source": [
    "# openDt 열에서 공백 문자열을 NaN으로 변환\n",
    "movie_after_14['openDt'] = movie_after_14['openDt'].replace(\" \", pd.NA)\n",
    "movie_after_14['date'] = movie_after_14['date'].replace(\" \", pd.NA)\n",
    "\n",
    "# D_D를 계산하기 위해 openDt와 date를 datetime 형식으로 변환\n",
    "movie_after_14['openDt'] = pd.to_datetime(movie_after_14['openDt'], format='%Y-%m-%d')\n",
    "movie_after_14['date'] = pd.to_datetime(movie_after_14['date'],format='%Y%m%d')\n",
    "\n",
    "# D_D 값 계산\n",
    "movie_after_14['D_D'] = (movie_after_14['date'] - movie_after_14['openDt']).dt.days\n",
    "\n",
    "# D_D 값의 통계 요약\n",
    "d_d_stats = movie_after_14['D_D'].describe()\n",
    "# D_D 값의 고유값 및 빈도\n",
    "d_d_value_counts = movie_after_14['D_D'].value_counts()\n",
    "\n",
    "# 통계 요약 출력\n",
    "print(\"D_D Statistics:\")\n",
    "print(d_d_stats)\n",
    "\n",
    "# 고유값 및 빈도 출력\n",
    "print(\"\\nD_D Value Counts:\")\n",
    "print(d_d_value_counts.sort_index())"
   ]
  },
  {
   "cell_type": "code",
   "execution_count": 6,
   "metadata": {},
   "outputs": [],
   "source": [
    "# 원본 데이터에 있는 영화만 추출\n",
    "movie_code_list = original_data['kobis_movie_code'].astype(str).unique()\n",
    "filtered_data = movie_after_14[movie_after_14['movieCd'].isin(movie_code_list)]"
   ]
  },
  {
   "cell_type": "code",
   "execution_count": 7,
   "metadata": {},
   "outputs": [
    {
     "name": "stdout",
     "output_type": "stream",
     "text": [
      "Number of movies in the original data: 409\n",
      "Number of movies in the filtered data: 409\n"
     ]
    }
   ],
   "source": [
    "print(f\"Number of movies in the original data: {len(movie_code_list)}\")\n",
    "print(f\"Number of movies in the filtered data: {filtered_data['movieCd'].nunique()}\")"
   ]
  },
  {
   "cell_type": "code",
   "execution_count": 8,
   "metadata": {
    "id": "vwKRzJucF7Xb"
   },
   "outputs": [],
   "source": [
    "#D_D 값이 14 이상인 것만 필터링\n",
    "filtered_after_14 = filtered_data[filtered_data['D_D']>=14].reset_index(drop=True)\n",
    "\n",
    "# D_D 값 정수형으로 변환\n",
    "filtered_after_14['D_D'] = filtered_after_14['D_D'].astype(int)"
   ]
  },
  {
   "cell_type": "code",
   "execution_count": 9,
   "metadata": {},
   "outputs": [
    {
     "data": {
      "text/html": [
       "<div>\n",
       "<style scoped>\n",
       "    .dataframe tbody tr th:only-of-type {\n",
       "        vertical-align: middle;\n",
       "    }\n",
       "\n",
       "    .dataframe tbody tr th {\n",
       "        vertical-align: top;\n",
       "    }\n",
       "\n",
       "    .dataframe thead th {\n",
       "        text-align: right;\n",
       "    }\n",
       "</style>\n",
       "<table border=\"1\" class=\"dataframe\">\n",
       "  <thead>\n",
       "    <tr style=\"text-align: right;\">\n",
       "      <th></th>\n",
       "      <th>movieCd</th>\n",
       "      <th>movieNm</th>\n",
       "      <th>openDt</th>\n",
       "      <th>date</th>\n",
       "      <th>D_D</th>\n",
       "      <th>audiCnt</th>\n",
       "    </tr>\n",
       "  </thead>\n",
       "  <tbody>\n",
       "    <tr>\n",
       "      <th>0</th>\n",
       "      <td>20068576</td>\n",
       "      <td>그날의 분위기</td>\n",
       "      <td>2016-01-14</td>\n",
       "      <td>2016-01-28</td>\n",
       "      <td>14</td>\n",
       "      <td>4229</td>\n",
       "    </tr>\n",
       "    <tr>\n",
       "      <th>1</th>\n",
       "      <td>20068576</td>\n",
       "      <td>그날의 분위기</td>\n",
       "      <td>2016-01-14</td>\n",
       "      <td>2016-01-31</td>\n",
       "      <td>17</td>\n",
       "      <td>6317</td>\n",
       "    </tr>\n",
       "    <tr>\n",
       "      <th>2</th>\n",
       "      <td>20068576</td>\n",
       "      <td>그날의 분위기</td>\n",
       "      <td>2016-01-14</td>\n",
       "      <td>2016-01-30</td>\n",
       "      <td>16</td>\n",
       "      <td>6650</td>\n",
       "    </tr>\n",
       "    <tr>\n",
       "      <th>3</th>\n",
       "      <td>20068576</td>\n",
       "      <td>그날의 분위기</td>\n",
       "      <td>2016-01-14</td>\n",
       "      <td>2016-02-01</td>\n",
       "      <td>18</td>\n",
       "      <td>2750</td>\n",
       "    </tr>\n",
       "    <tr>\n",
       "      <th>4</th>\n",
       "      <td>20068576</td>\n",
       "      <td>그날의 분위기</td>\n",
       "      <td>2016-01-14</td>\n",
       "      <td>2016-02-02</td>\n",
       "      <td>19</td>\n",
       "      <td>2573</td>\n",
       "    </tr>\n",
       "  </tbody>\n",
       "</table>\n",
       "</div>"
      ],
      "text/plain": [
       "    movieCd  movieNm     openDt       date  D_D audiCnt\n",
       "0  20068576  그날의 분위기 2016-01-14 2016-01-28   14    4229\n",
       "1  20068576  그날의 분위기 2016-01-14 2016-01-31   17    6317\n",
       "2  20068576  그날의 분위기 2016-01-14 2016-01-30   16    6650\n",
       "3  20068576  그날의 분위기 2016-01-14 2016-02-01   18    2750\n",
       "4  20068576  그날의 분위기 2016-01-14 2016-02-02   19    2573"
      ]
     },
     "execution_count": 9,
     "metadata": {},
     "output_type": "execute_result"
    }
   ],
   "source": [
    "df = filtered_after_14[['movieCd', 'movieNm', 'openDt', 'date', 'D_D', 'audiCnt']]\n",
    "df.head()"
   ]
  },
  {
   "cell_type": "code",
   "execution_count": 10,
   "metadata": {},
   "outputs": [
    {
     "data": {
      "text/plain": [
       "array([14, 15, 16, 17, 18, 19, 20])"
      ]
     },
     "execution_count": 10,
     "metadata": {},
     "output_type": "execute_result"
    }
   ],
   "source": [
    "np.arange(14, 21)"
   ]
  },
  {
   "cell_type": "code",
   "execution_count": 11,
   "metadata": {},
   "outputs": [
    {
     "data": {
      "text/plain": [
       "D_D\n",
       "14    265\n",
       "15    237\n",
       "16    238\n",
       "17    240\n",
       "18    232\n",
       "19    218\n",
       "20    201\n",
       "21    150\n",
       "Name: count, dtype: int64"
      ]
     },
     "execution_count": 11,
     "metadata": {},
     "output_type": "execute_result"
    }
   ],
   "source": [
    "df[df['D_D'].isin(np.arange(14, 22))]['D_D'].value_counts().sort_index()"
   ]
  },
  {
   "cell_type": "code",
   "execution_count": 12,
   "metadata": {},
   "outputs": [],
   "source": [
    "df.to_csv('./processed_data/audi_cnt_after_14.csv', index=False)"
   ]
  },
  {
   "cell_type": "markdown",
   "metadata": {},
   "source": [
    "---\n",
    "---"
   ]
  }
 ],
 "metadata": {
  "colab": {
   "provenance": []
  },
  "kernelspec": {
   "display_name": "base",
   "language": "python",
   "name": "python3"
  },
  "language_info": {
   "codemirror_mode": {
    "name": "ipython",
    "version": 3
   },
   "file_extension": ".py",
   "mimetype": "text/x-python",
   "name": "python",
   "nbconvert_exporter": "python",
   "pygments_lexer": "ipython3",
   "version": "3.11.7"
  }
 },
 "nbformat": 4,
 "nbformat_minor": 0
}
